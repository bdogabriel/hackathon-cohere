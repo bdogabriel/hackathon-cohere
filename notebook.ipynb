{
  "cells": [
    {
      "cell_type": "markdown",
      "metadata": {
        "id": "fHTnVNshPFPa"
      },
      "source": [
        "# Bibliotecas"
      ]
    },
    {
      "cell_type": "code",
      "execution_count": null,
      "metadata": {
        "id": "jyMS-lkUNuEW"
      },
      "outputs": [],
      "source": [
        "import cohere\n",
        "import pandas as pd\n",
        "import os\n",
        "import dotenv"
      ]
    },
    {
      "cell_type": "markdown",
      "metadata": {
        "id": "s8PL3JRcPIzI"
      },
      "source": [
        "# Preparing DataFrame"
      ]
    },
    {
      "cell_type": "code",
      "execution_count": null,
      "metadata": {
        "colab": {
          "base_uri": "https://localhost:8080/"
        },
        "id": "ccMGf3R_wyJC",
        "outputId": "da459e7e-c10a-4f9d-ef6c-3dddccc2cd7d"
      },
      "outputs": [],
      "source": [
        "# reading data\n",
        "df = pd.read_csv('./dataframes/spotify_millsongdata.csv')\n",
        "df_aux = pd.read_csv('./dataframes/dataset.csv')\n",
        "\n",
        "# changing column names\n",
        "df_aux = df_aux.rename(columns={'track_name':'song', 'artists':'artist'})"
      ]
    },
    {
      "cell_type": "code",
      "execution_count": null,
      "metadata": {
        "colab": {
          "base_uri": "https://localhost:8080/",
          "height": 756
        },
        "id": "xCbyHnS_oKXG",
        "outputId": "2abcf32a-2505-4246-be2c-69777ab868f8"
      },
      "outputs": [],
      "source": [
        "df_aux"
      ]
    },
    {
      "cell_type": "code",
      "execution_count": null,
      "metadata": {
        "colab": {
          "base_uri": "https://localhost:8080/",
          "height": 528
        },
        "id": "ZHEW8ONfTEfL",
        "outputId": "aecfbf6f-ecf9-4c8a-df9c-ca6383ed423c"
      },
      "outputs": [],
      "source": [
        "df"
      ]
    },
    {
      "cell_type": "code",
      "execution_count": null,
      "metadata": {
        "colab": {
          "base_uri": "https://localhost:8080/",
          "height": 1000
        },
        "id": "NNxBpKdxoUWp",
        "outputId": "c89e5f7f-578a-4e6c-c53c-e12977fb9600"
      },
      "outputs": [],
      "source": [
        "# merging dataframes\n",
        "df_pop = pd.merge(df, df_aux, on = ['song', 'artist'], how ='inner').drop_duplicates(subset = 'text').reset_index()\n",
        "df_pop"
      ]
    },
    {
      "cell_type": "code",
      "execution_count": null,
      "metadata": {
        "id": "ilFEecmEp4lE"
      },
      "outputs": [],
      "source": [
        "# cleaning data\n",
        "def transform_string(text):\n",
        "  text = text.replace('\\r\\n','')\n",
        "  return text"
      ]
    },
    {
      "cell_type": "code",
      "execution_count": null,
      "metadata": {
        "colab": {
          "base_uri": "https://localhost:8080/",
          "height": 1000
        },
        "id": "8c6rd5AZpyka",
        "outputId": "aa6cf885-bdb9-4223-d7c1-4c87b5007d70"
      },
      "outputs": [],
      "source": [
        "lista_aux = []\n",
        "\n",
        "for val in df_pop['text']:\n",
        "  val = transform_string(val)\n",
        "  lista_aux.append(val)\n",
        "\n",
        "df_pop['lyrics'] = lista_aux\n",
        "\n",
        "df_pop"
      ]
    },
    {
      "cell_type": "code",
      "execution_count": null,
      "metadata": {
        "colab": {
          "base_uri": "https://localhost:8080/",
          "height": 424
        },
        "id": "GOJmJqMmtEP2",
        "outputId": "5b99fb69-93dc-4331-c89c-8b83c36e3d18"
      },
      "outputs": [],
      "source": [
        "df_pop = df_pop[['artist', 'song', 'lyrics', 'popularity']]\n",
        "df_pop"
      ]
    },
    {
      "cell_type": "markdown",
      "metadata": {
        "id": "MacDraLNQwN3"
      },
      "source": [
        "# Cohere"
      ]
    },
    {
      "cell_type": "code",
      "execution_count": null,
      "metadata": {
        "id": "cHqiH6pWjlAt"
      },
      "outputs": [],
      "source": [
        "# api client\n",
        "dotenv.load_dotenv('./.env')\n",
        "\n",
        "api_key = os.environ[\"COHERE_API_KEY\"]\n",
        "co = cohere.Client(api_key)"
      ]
    },
    {
      "cell_type": "code",
      "execution_count": null,
      "metadata": {
        "id": "sLfznsS3jA3W"
      },
      "outputs": [],
      "source": [
        "# text embed calculation\n",
        "def embed_text(texts):\n",
        "  output = co.embed(\n",
        "                model=\"embed-english-v2.0\",\n",
        "                texts=texts)\n",
        "  embedding = output.embeddings\n",
        "\n",
        "  return embedding"
      ]
    },
    {
      "cell_type": "code",
      "execution_count": null,
      "metadata": {
        "colab": {
          "base_uri": "https://localhost:8080/"
        },
        "id": "YBJRxjaHzF3m",
        "outputId": "aa59e3ef-e310-4ae8-cb3e-33fc3b230a3e"
      },
      "outputs": [],
      "source": [
        "# songs lyrics embeds\n",
        "df_pop['lyrics_embeds'] = embed_text(df_pop['lyrics'].tolist())"
      ]
    },
    {
      "cell_type": "code",
      "execution_count": null,
      "metadata": {
        "id": "qOtOveaZ68XG"
      },
      "outputs": [],
      "source": [
        "# dataframe to csv\n",
        "df_pop.to_csv(\"./dataframes/data.csv\")"
      ]
    }
  ],
  "metadata": {
    "colab": {
      "provenance": []
    },
    "kernelspec": {
      "display_name": "Python 3",
      "name": "python3"
    },
    "language_info": {
      "codemirror_mode": {
        "name": "ipython",
        "version": 3
      },
      "file_extension": ".py",
      "mimetype": "text/x-python",
      "name": "python",
      "nbconvert_exporter": "python",
      "pygments_lexer": "ipython3",
      "version": "3.10.12"
    }
  },
  "nbformat": 4,
  "nbformat_minor": 0
}
